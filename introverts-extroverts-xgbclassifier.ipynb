{
 "cells": [
  {
   "cell_type": "markdown",
   "id": "36db171e",
   "metadata": {
    "papermill": {
     "duration": 0.005118,
     "end_time": "2025-09-03T10:37:39.631076",
     "exception": false,
     "start_time": "2025-09-03T10:37:39.625958",
     "status": "completed"
    },
    "tags": []
   },
   "source": [
    "# Imports"
   ]
  },
  {
   "cell_type": "code",
   "execution_count": 1,
   "id": "21604604",
   "metadata": {
    "_cell_guid": "b1076dfc-b9ad-4769-8c92-a6c4dae69d19",
    "_uuid": "8f2839f25d086af736a60e9eeb907d3b93b6e0e5",
    "execution": {
     "iopub.execute_input": "2025-09-03T10:37:39.641303Z",
     "iopub.status.busy": "2025-09-03T10:37:39.641008Z",
     "iopub.status.idle": "2025-09-03T10:37:43.511049Z",
     "shell.execute_reply": "2025-09-03T10:37:43.509944Z"
    },
    "papermill": {
     "duration": 3.876885,
     "end_time": "2025-09-03T10:37:43.512562",
     "exception": false,
     "start_time": "2025-09-03T10:37:39.635677",
     "status": "completed"
    },
    "tags": []
   },
   "outputs": [
    {
     "name": "stdout",
     "output_type": "stream",
     "text": [
      "/kaggle/input/playground-series-s5e7/sample_submission.csv\n",
      "/kaggle/input/playground-series-s5e7/train.csv\n",
      "/kaggle/input/playground-series-s5e7/test.csv\n"
     ]
    }
   ],
   "source": [
    "import numpy as np\n",
    "import pandas as pd\n",
    "import os\n",
    "import matplotlib.pyplot  as plt\n",
    "import seaborn as sns\n",
    "\n",
    "for dirname, _, filenames in os.walk('/kaggle/input'):\n",
    "    for filename in filenames:\n",
    "        print(os.path.join(dirname, filename))"
   ]
  },
  {
   "cell_type": "markdown",
   "id": "28d9363d",
   "metadata": {
    "papermill": {
     "duration": 0.004201,
     "end_time": "2025-09-03T10:37:43.521342",
     "exception": false,
     "start_time": "2025-09-03T10:37:43.517141",
     "status": "completed"
    },
    "tags": []
   },
   "source": [
    "# Data exploration"
   ]
  },
  {
   "cell_type": "code",
   "execution_count": 2,
   "id": "85c58768",
   "metadata": {
    "execution": {
     "iopub.execute_input": "2025-09-03T10:37:43.531799Z",
     "iopub.status.busy": "2025-09-03T10:37:43.531267Z",
     "iopub.status.idle": "2025-09-03T10:37:43.609248Z",
     "shell.execute_reply": "2025-09-03T10:37:43.608270Z"
    },
    "papermill": {
     "duration": 0.085051,
     "end_time": "2025-09-03T10:37:43.611046",
     "exception": false,
     "start_time": "2025-09-03T10:37:43.525995",
     "status": "completed"
    },
    "tags": []
   },
   "outputs": [],
   "source": [
    "train_data = pd.read_csv('/kaggle/input/playground-series-s5e7/train.csv')\n",
    "test_data = pd.read_csv('/kaggle/input/playground-series-s5e7/test.csv')"
   ]
  },
  {
   "cell_type": "markdown",
   "id": "a3e7f490",
   "metadata": {
    "papermill": {
     "duration": 0.004081,
     "end_time": "2025-09-03T10:37:43.619778",
     "exception": false,
     "start_time": "2025-09-03T10:37:43.615697",
     "status": "completed"
    },
    "tags": []
   },
   "source": [
    "Our data consists of two csv files prepared for training and testing. In training data we have 18524 records, in testing 6175 records."
   ]
  },
  {
   "cell_type": "code",
   "execution_count": 3,
   "id": "50f21460",
   "metadata": {
    "execution": {
     "iopub.execute_input": "2025-09-03T10:37:43.629803Z",
     "iopub.status.busy": "2025-09-03T10:37:43.629278Z",
     "iopub.status.idle": "2025-09-03T10:37:43.635494Z",
     "shell.execute_reply": "2025-09-03T10:37:43.634542Z"
    },
    "papermill": {
     "duration": 0.01322,
     "end_time": "2025-09-03T10:37:43.637252",
     "exception": false,
     "start_time": "2025-09-03T10:37:43.624032",
     "status": "completed"
    },
    "tags": []
   },
   "outputs": [
    {
     "name": "stdout",
     "output_type": "stream",
     "text": [
      "(18524, 9)\n",
      "(6175, 8)\n",
      "id                             int64\n",
      "Time_spent_Alone             float64\n",
      "Stage_fear                    object\n",
      "Social_event_attendance      float64\n",
      "Going_outside                float64\n",
      "Drained_after_socializing     object\n",
      "Friends_circle_size          float64\n",
      "Post_frequency               float64\n",
      "Personality                   object\n",
      "dtype: object\n"
     ]
    }
   ],
   "source": [
    "print(train_data.shape)\n",
    "print(test_data.shape)\n",
    "print(train_data.dtypes)"
   ]
  },
  {
   "cell_type": "markdown",
   "id": "3118dbac",
   "metadata": {
    "papermill": {
     "duration": 0.004044,
     "end_time": "2025-09-03T10:37:43.645973",
     "exception": false,
     "start_time": "2025-09-03T10:37:43.641929",
     "status": "completed"
    },
    "tags": []
   },
   "source": [
    "Data have some missing values, it is important to handle it. For now let's stay with raw data."
   ]
  },
  {
   "cell_type": "code",
   "execution_count": 4,
   "id": "f43a1a88",
   "metadata": {
    "execution": {
     "iopub.execute_input": "2025-09-03T10:37:43.656610Z",
     "iopub.status.busy": "2025-09-03T10:37:43.656277Z",
     "iopub.status.idle": "2025-09-03T10:37:43.668138Z",
     "shell.execute_reply": "2025-09-03T10:37:43.666999Z"
    },
    "papermill": {
     "duration": 0.018448,
     "end_time": "2025-09-03T10:37:43.669620",
     "exception": false,
     "start_time": "2025-09-03T10:37:43.651172",
     "status": "completed"
    },
    "tags": []
   },
   "outputs": [
    {
     "name": "stdout",
     "output_type": "stream",
     "text": [
      "TRAIN\n",
      "id                              0\n",
      "Time_spent_Alone             1190\n",
      "Stage_fear                   1893\n",
      "Social_event_attendance      1180\n",
      "Going_outside                1466\n",
      "Drained_after_socializing    1149\n",
      "Friends_circle_size          1054\n",
      "Post_frequency               1264\n",
      "Personality                     0\n",
      "dtype: int64\n",
      "TEST\n",
      "id                             0\n",
      "Time_spent_Alone             425\n",
      "Stage_fear                   598\n",
      "Social_event_attendance      397\n",
      "Going_outside                466\n",
      "Drained_after_socializing    432\n",
      "Friends_circle_size          350\n",
      "Post_frequency               408\n",
      "dtype: int64\n"
     ]
    }
   ],
   "source": [
    "print(\"TRAIN\")\n",
    "print(train_data.isna().sum())\n",
    "print(\"TEST\")\n",
    "print(test_data.isna().sum())"
   ]
  },
  {
   "cell_type": "code",
   "execution_count": 5,
   "id": "fcba99d6",
   "metadata": {
    "execution": {
     "iopub.execute_input": "2025-09-03T10:37:43.679990Z",
     "iopub.status.busy": "2025-09-03T10:37:43.679683Z",
     "iopub.status.idle": "2025-09-03T10:37:43.722290Z",
     "shell.execute_reply": "2025-09-03T10:37:43.721133Z"
    },
    "papermill": {
     "duration": 0.049685,
     "end_time": "2025-09-03T10:37:43.723864",
     "exception": false,
     "start_time": "2025-09-03T10:37:43.674179",
     "status": "completed"
    },
    "tags": []
   },
   "outputs": [
    {
     "name": "stderr",
     "output_type": "stream",
     "text": [
      "/usr/local/lib/python3.11/dist-packages/pandas/io/formats/format.py:1458: RuntimeWarning: invalid value encountered in greater\n",
      "  has_large_values = (abs_vals > 1e6).any()\n",
      "/usr/local/lib/python3.11/dist-packages/pandas/io/formats/format.py:1459: RuntimeWarning: invalid value encountered in less\n",
      "  has_small_values = ((abs_vals < 10 ** (-self.digits)) & (abs_vals > 0)).any()\n",
      "/usr/local/lib/python3.11/dist-packages/pandas/io/formats/format.py:1459: RuntimeWarning: invalid value encountered in greater\n",
      "  has_small_values = ((abs_vals < 10 ** (-self.digits)) & (abs_vals > 0)).any()\n"
     ]
    },
    {
     "data": {
      "text/html": [
       "<div>\n",
       "<style scoped>\n",
       "    .dataframe tbody tr th:only-of-type {\n",
       "        vertical-align: middle;\n",
       "    }\n",
       "\n",
       "    .dataframe tbody tr th {\n",
       "        vertical-align: top;\n",
       "    }\n",
       "\n",
       "    .dataframe thead th {\n",
       "        text-align: right;\n",
       "    }\n",
       "</style>\n",
       "<table border=\"1\" class=\"dataframe\">\n",
       "  <thead>\n",
       "    <tr style=\"text-align: right;\">\n",
       "      <th></th>\n",
       "      <th>id</th>\n",
       "      <th>Time_spent_Alone</th>\n",
       "      <th>Stage_fear</th>\n",
       "      <th>Social_event_attendance</th>\n",
       "      <th>Going_outside</th>\n",
       "      <th>Drained_after_socializing</th>\n",
       "      <th>Friends_circle_size</th>\n",
       "      <th>Post_frequency</th>\n",
       "      <th>Personality</th>\n",
       "    </tr>\n",
       "  </thead>\n",
       "  <tbody>\n",
       "    <tr>\n",
       "      <th>0</th>\n",
       "      <td>0</td>\n",
       "      <td>0.0</td>\n",
       "      <td>No</td>\n",
       "      <td>6.0</td>\n",
       "      <td>4.0</td>\n",
       "      <td>No</td>\n",
       "      <td>15.0</td>\n",
       "      <td>5.0</td>\n",
       "      <td>Extrovert</td>\n",
       "    </tr>\n",
       "    <tr>\n",
       "      <th>1</th>\n",
       "      <td>1</td>\n",
       "      <td>1.0</td>\n",
       "      <td>No</td>\n",
       "      <td>7.0</td>\n",
       "      <td>3.0</td>\n",
       "      <td>No</td>\n",
       "      <td>10.0</td>\n",
       "      <td>8.0</td>\n",
       "      <td>Extrovert</td>\n",
       "    </tr>\n",
       "    <tr>\n",
       "      <th>2</th>\n",
       "      <td>2</td>\n",
       "      <td>6.0</td>\n",
       "      <td>Yes</td>\n",
       "      <td>1.0</td>\n",
       "      <td>0.0</td>\n",
       "      <td>NaN</td>\n",
       "      <td>3.0</td>\n",
       "      <td>0.0</td>\n",
       "      <td>Introvert</td>\n",
       "    </tr>\n",
       "    <tr>\n",
       "      <th>3</th>\n",
       "      <td>3</td>\n",
       "      <td>3.0</td>\n",
       "      <td>No</td>\n",
       "      <td>7.0</td>\n",
       "      <td>3.0</td>\n",
       "      <td>No</td>\n",
       "      <td>11.0</td>\n",
       "      <td>5.0</td>\n",
       "      <td>Extrovert</td>\n",
       "    </tr>\n",
       "    <tr>\n",
       "      <th>4</th>\n",
       "      <td>4</td>\n",
       "      <td>1.0</td>\n",
       "      <td>No</td>\n",
       "      <td>4.0</td>\n",
       "      <td>4.0</td>\n",
       "      <td>No</td>\n",
       "      <td>13.0</td>\n",
       "      <td>NaN</td>\n",
       "      <td>Extrovert</td>\n",
       "    </tr>\n",
       "  </tbody>\n",
       "</table>\n",
       "</div>"
      ],
      "text/plain": [
       "   id  Time_spent_Alone Stage_fear  Social_event_attendance  Going_outside  \\\n",
       "0   0               0.0         No                      6.0            4.0   \n",
       "1   1               1.0         No                      7.0            3.0   \n",
       "2   2               6.0        Yes                      1.0            0.0   \n",
       "3   3               3.0         No                      7.0            3.0   \n",
       "4   4               1.0         No                      4.0            4.0   \n",
       "\n",
       "  Drained_after_socializing  Friends_circle_size  Post_frequency Personality  \n",
       "0                        No                 15.0             5.0   Extrovert  \n",
       "1                        No                 10.0             8.0   Extrovert  \n",
       "2                       NaN                  3.0             0.0   Introvert  \n",
       "3                        No                 11.0             5.0   Extrovert  \n",
       "4                        No                 13.0             NaN   Extrovert  "
      ]
     },
     "execution_count": 5,
     "metadata": {},
     "output_type": "execute_result"
    }
   ],
   "source": [
    "train_data.head()\n"
   ]
  },
  {
   "cell_type": "code",
   "execution_count": 6,
   "id": "5fc457d0",
   "metadata": {
    "execution": {
     "iopub.execute_input": "2025-09-03T10:37:43.734632Z",
     "iopub.status.busy": "2025-09-03T10:37:43.734271Z",
     "iopub.status.idle": "2025-09-03T10:37:44.767177Z",
     "shell.execute_reply": "2025-09-03T10:37:44.766275Z"
    },
    "papermill": {
     "duration": 1.040126,
     "end_time": "2025-09-03T10:37:44.768815",
     "exception": false,
     "start_time": "2025-09-03T10:37:43.728689",
     "status": "completed"
    },
    "tags": []
   },
   "outputs": [
    {
     "data": {
      "image/png": "[encoded data removed]",
      "text/plain": [
       "<Figure size 1200x500 with 4 Axes>"
      ]
     },
     "metadata": {},
     "output_type": "display_data"
    }
   ],
   "source": [
    "introverts = train_data[train_data.Personality == 'Introvert']\n",
    "extroverts = train_data[train_data.Personality == 'Extrovert']\n",
    "\n",
    "fig, axs = plt.subplots(2, 2, figsize=(12, 5))\n",
    "\n",
    "colors = ['#1f77b4', '#ff7f0e']  # niebieski, pomarańczowy\n",
    "labels = ['Introvert', 'Extrovert']\n",
    "\n",
    "# 1. Time spent alone\n",
    "axs[0][0].hist(\n",
    "    [introverts.Time_spent_Alone, extroverts.Time_spent_Alone],\n",
    "    bins=10,\n",
    "    stacked=True,\n",
    "    label=labels,\n",
    "    color=colors,\n",
    "    edgecolor='black'\n",
    ")\n",
    "axs[0][0].set_xlabel('Time spent alone')\n",
    "axs[0][0].set_ylabel('Frequency')\n",
    "axs[0][0].set_title('Time Spent Alone by Personality')\n",
    "axs[0][0].legend()\n",
    "\n",
    "# 2. Social event attendance\n",
    "axs[0][1].hist(\n",
    "    [introverts.Social_event_attendance, extroverts.Social_event_attendance],\n",
    "    bins=10,\n",
    "    stacked=True,\n",
    "    label=labels,\n",
    "    color=colors,\n",
    "    edgecolor='black'\n",
    ")\n",
    "axs[0][1].set_xlabel('Social event attendance')\n",
    "axs[0][1].set_ylabel('Frequency')\n",
    "axs[0][1].set_title('Social Event Attendance by Personality')\n",
    "axs[0][1].legend()\n",
    "\n",
    "# 3. Time going outside\n",
    "axs[1][0].hist(\n",
    "    [introverts.Going_outside, extroverts.Going_outside],\n",
    "    bins=10,\n",
    "    stacked=True,\n",
    "    label=labels,\n",
    "    color=colors,\n",
    "    edgecolor='black'\n",
    ")\n",
    "axs[1][0].set_xlabel('Time Going Outside')\n",
    "axs[1][0].set_ylabel('Frequency')\n",
    "axs[1][0].set_title('Time Going Outside by Personality')\n",
    "axs[1][0].legend()\n",
    "\n",
    "# 4. Friends circle size\n",
    "axs[1][1].hist(\n",
    "    [introverts.Friends_circle_size, extroverts.Friends_circle_size],\n",
    "    bins=10,\n",
    "    stacked=True,\n",
    "    label=labels,\n",
    "    color=colors,\n",
    "    edgecolor='black'\n",
    ")\n",
    "axs[1][1].set_xlabel('Friends Circle Size')\n",
    "axs[1][1].set_ylabel('Frequency')\n",
    "axs[1][1].set_title('Friends Circle Size by Personality')\n",
    "axs[1][1].legend()\n",
    "plt.tight_layout()\n",
    "plt.show()\n"
   ]
  },
  {
   "cell_type": "markdown",
   "id": "8f82fba0",
   "metadata": {
    "papermill": {
     "duration": 0.006045,
     "end_time": "2025-09-03T10:37:44.781417",
     "exception": false,
     "start_time": "2025-09-03T10:37:44.775372",
     "status": "completed"
    },
    "tags": []
   },
   "source": [
    "# Prepare Data"
   ]
  },
  {
   "cell_type": "code",
   "execution_count": 7,
   "id": "b561c986",
   "metadata": {
    "execution": {
     "iopub.execute_input": "2025-09-03T10:37:44.795490Z",
     "iopub.status.busy": "2025-09-03T10:37:44.795185Z",
     "iopub.status.idle": "2025-09-03T10:37:45.125207Z",
     "shell.execute_reply": "2025-09-03T10:37:45.124091Z"
    },
    "papermill": {
     "duration": 0.33891,
     "end_time": "2025-09-03T10:37:45.126905",
     "exception": false,
     "start_time": "2025-09-03T10:37:44.787995",
     "status": "completed"
    },
    "tags": []
   },
   "outputs": [
    {
     "name": "stdout",
     "output_type": "stream",
     "text": [
      "Categorical features:  ['Stage_fear', 'Drained_after_socializing']\n",
      "Low cardinality features:  ['Stage_fear', 'Drained_after_socializing']\n"
     ]
    }
   ],
   "source": [
    "from sklearn.model_selection import train_test_split\n",
    "from sklearn.preprocessing import LabelEncoder\n",
    "\n",
    "# Select target variable\n",
    "y = train_data.Personality\n",
    "train_data.drop([\"Personality\"], axis=1, inplace=True)\n",
    "\n",
    "# Split to taining and validation\n",
    "X_train_full, X_valid_full, y_train, y_valid_raw = train_test_split(train_data, y, train_size=0.8, test_size=0.2, random_state=0)\n",
    "\n",
    "# Get categorical features names\n",
    "categorical_features = [cname for cname in X_train_full.columns if X_train_full[cname].dtype == 'object']\n",
    "print(\"Categorical features: \", categorical_features)\n",
    "\n",
    "# Get low cardinality features\n",
    "low_cardinality_features = [cname for cname in categorical_features if X_train_full[cname].nunique() < 10]\n",
    "print(\"Low cardinality features: \", low_cardinality_features)\n",
    "\n",
    "# Get numeric columns\n",
    "numeric_features = [cname for cname in X_train_full.columns if X_train_full[cname].dtype in ['int', 'float']]\n",
    "\n",
    "# Filter redundant columns from train, test and valid\n",
    "selected_features = low_cardinality_features + numeric_features\n",
    "\n",
    "X_train = X_train_full[selected_features].copy()\n",
    "X_valid = X_valid_full[selected_features].copy()\n",
    "X_test = test_data[selected_features].copy()\n",
    "\n",
    "# Encode categorical target variable\n",
    "label_encoder = LabelEncoder()\n",
    "y_train = label_encoder.fit_transform(y_train)\n",
    "y_valid = label_encoder.transform(y_valid_raw)"
   ]
  },
  {
   "cell_type": "markdown",
   "id": "a47c1d9a",
   "metadata": {
    "papermill": {
     "duration": 0.005583,
     "end_time": "2025-09-03T10:37:45.138524",
     "exception": false,
     "start_time": "2025-09-03T10:37:45.132941",
     "status": "completed"
    },
    "tags": []
   },
   "source": [
    "# Define Pipeline"
   ]
  },
  {
   "cell_type": "markdown",
   "id": "914e3d37",
   "metadata": {
    "papermill": {
     "duration": 0.005669,
     "end_time": "2025-09-03T10:37:45.150003",
     "exception": false,
     "start_time": "2025-09-03T10:37:45.144334",
     "status": "completed"
    },
    "tags": []
   },
   "source": [
    "# "
   ]
  },
  {
   "cell_type": "code",
   "execution_count": 8,
   "id": "36d27339",
   "metadata": {
    "execution": {
     "iopub.execute_input": "2025-09-03T10:37:45.164449Z",
     "iopub.status.busy": "2025-09-03T10:37:45.163452Z",
     "iopub.status.idle": "2025-09-03T10:37:45.425122Z",
     "shell.execute_reply": "2025-09-03T10:37:45.424084Z"
    },
    "papermill": {
     "duration": 0.270774,
     "end_time": "2025-09-03T10:37:45.426789",
     "exception": false,
     "start_time": "2025-09-03T10:37:45.156015",
     "status": "completed"
    },
    "tags": []
   },
   "outputs": [],
   "source": [
    "from sklearn.compose import ColumnTransformer\n",
    "from sklearn.pipeline import Pipeline\n",
    "from sklearn.impute import SimpleImputer\n",
    "from sklearn.preprocessing import OneHotEncoder\n",
    "\n",
    "numerical_transformer = SimpleImputer(strategy='mean')\n",
    "\n",
    "categorical_transformer = Pipeline(steps=[\n",
    "    ('imputer', SimpleImputer(strategy='most_frequent')),\n",
    "    ('onehot', OneHotEncoder(handle_unknown='ignore'))\n",
    "])\n",
    "\n",
    "preprocessor = ColumnTransformer(transformers=[\n",
    "    ('num', numerical_transformer, numeric_features),\n",
    "    ('cat', categorical_transformer, categorical_features)\n",
    "])\n"
   ]
  },
  {
   "cell_type": "markdown",
   "id": "41479fc9",
   "metadata": {
    "papermill": {
     "duration": 0.005621,
     "end_time": "2025-09-03T10:37:45.438472",
     "exception": false,
     "start_time": "2025-09-03T10:37:45.432851",
     "status": "completed"
    },
    "tags": []
   },
   "source": [
    "# Test For Best Parameters"
   ]
  },
  {
   "cell_type": "code",
   "execution_count": 9,
   "id": "529fb8c0",
   "metadata": {
    "execution": {
     "iopub.execute_input": "2025-09-03T10:37:45.452089Z",
     "iopub.status.busy": "2025-09-03T10:37:45.451793Z",
     "iopub.status.idle": "2025-09-03T10:38:06.089124Z",
     "shell.execute_reply": "2025-09-03T10:38:06.088455Z"
    },
    "papermill": {
     "duration": 20.64635,
     "end_time": "2025-09-03T10:38:06.091223",
     "exception": false,
     "start_time": "2025-09-03T10:37:45.444873",
     "status": "completed"
    },
    "tags": []
   },
   "outputs": [],
   "source": [
    "from sklearn.model_selection import cross_val_score\n",
    "from xgboost import XGBClassifier\n",
    "\n",
    "def get_score(n_estimators, cv, lr, X, y):\n",
    "    \"\"\"Return the average MAE over CV folds of XGBClassifier.\n",
    "    \n",
    "    Keyword argument:\n",
    "    n_estimators -- the number of trees in the forest\n",
    "    \"\"\"\n",
    "    pipeline = Pipeline(steps=[\n",
    "        ('preprocessor', preprocessor),\n",
    "        ('model', XGBClassifier(n_estimators=n_estimators, learning_rate=lr, random_state=0))\n",
    "    ])\n",
    "    \n",
    "    scores = cross_val_score(pipeline, X, y,\n",
    "                                 cv=cv,\n",
    "                                 scoring='accuracy')\n",
    "    return scores.mean()\n",
    "    \n",
    "def plot_results():\n",
    "    pass\n",
    "    \n",
    "results = {n_estimators: get_score(n_estimators, 5, 0.01, X_train, y_train) for n_estimators in np.arange(50, 600, 50)}\n"
   ]
  },
  {
   "cell_type": "code",
   "execution_count": 10,
   "id": "c087f442",
   "metadata": {
    "execution": {
     "iopub.execute_input": "2025-09-03T10:38:06.104382Z",
     "iopub.status.busy": "2025-09-03T10:38:06.104080Z",
     "iopub.status.idle": "2025-09-03T10:38:06.228178Z",
     "shell.execute_reply": "2025-09-03T10:38:06.226991Z"
    },
    "papermill": {
     "duration": 0.13283,
     "end_time": "2025-09-03T10:38:06.230006",
     "exception": false,
     "start_time": "2025-09-03T10:38:06.097176",
     "status": "completed"
    },
    "tags": []
   },
   "outputs": [
    {
     "data": {
      "image/png": "[encoded data removed]",
      "text/plain": [
       "<Figure size 640x480 with 1 Axes>"
      ]
     },
     "metadata": {},
     "output_type": "display_data"
    }
   ],
   "source": [
    "plt.plot(list(results.keys()), list(results.values()))\n",
    "plt.show()"
   ]
  },
  {
   "cell_type": "markdown",
   "id": "9d2a0d1c",
   "metadata": {
    "papermill": {
     "duration": 0.006195,
     "end_time": "2025-09-03T10:38:06.242623",
     "exception": false,
     "start_time": "2025-09-03T10:38:06.236428",
     "status": "completed"
    },
    "tags": []
   },
   "source": [
    "# Define Best model"
   ]
  },
  {
   "cell_type": "code",
   "execution_count": 11,
   "id": "77e4f588",
   "metadata": {
    "execution": {
     "iopub.execute_input": "2025-09-03T10:38:06.256988Z",
     "iopub.status.busy": "2025-09-03T10:38:06.256698Z",
     "iopub.status.idle": "2025-09-03T10:38:06.744621Z",
     "shell.execute_reply": "2025-09-03T10:38:06.743748Z"
    },
    "papermill": {
     "duration": 0.497234,
     "end_time": "2025-09-03T10:38:06.746304",
     "exception": false,
     "start_time": "2025-09-03T10:38:06.249070",
     "status": "completed"
    },
    "tags": []
   },
   "outputs": [
    {
     "data": {
      "text/html": [
       "<style>#sk-container-id-1 {color: black;background-color: white;}#sk-container-id-1 pre{padding: 0;}#sk-container-id-1 div.sk-toggleable {background-color: white;}#sk-container-id-1 label.sk-toggleable__label {cursor: pointer;display: block;width: 100%;margin-bottom: 0;padding: 0.3em;box-sizing: border-box;text-align: center;}#sk-container-id-1 label.sk-toggleable__label-arrow:before {content: \"▸\";float: left;margin-right: 0.25em;color: #696969;}#sk-container-id-1 label.sk-toggleable__label-arrow:hover:before {color: black;}#sk-container-id-1 div.sk-estimator:hover label.sk-toggleable__label-arrow:before {color: black;}#sk-container-id-1 div.sk-toggleable__content {max-height: 0;max-width: 0;overflow: hidden;text-align: left;background-color: #f0f8ff;}#sk-container-id-1 div.sk-toggleable__content pre {margin: 0.2em;color: black;border-radius: 0.25em;background-color: #f0f8ff;}#sk-container-id-1 input.sk-toggleable__control:checked~div.sk-toggleable__content {max-height: 200px;max-width: 100%;overflow: auto;}#sk-container-id-1 input.sk-toggleable__control:checked~label.sk-toggleable__label-arrow:before {content: \"▾\";}#sk-container-id-1 div.sk-estimator input.sk-toggleable__control:checked~label.sk-toggleable__label {background-color: #d4ebff;}#sk-container-id-1 div.sk-label input.sk-toggleable__control:checked~label.sk-toggleable__label {background-color: #d4ebff;}#sk-container-id-1 input.sk-hidden--visually {border: 0;clip: rect(1px 1px 1px 1px);clip: rect(1px, 1px, 1px, 1px);height: 1px;margin: -1px;overflow: hidden;padding: 0;position: absolute;width: 1px;}#sk-container-id-1 div.sk-estimator {font-family: monospace;background-color: #f0f8ff;border: 1px dotted black;border-radius: 0.25em;box-sizing: border-box;margin-bottom: 0.5em;}#sk-container-id-1 div.sk-estimator:hover {background-color: #d4ebff;}#sk-container-id-1 div.sk-parallel-item::after {content: \"\";width: 100%;border-bottom: 1px solid gray;flex-grow: 1;}#sk-container-id-1 div.sk-label:hover label.sk-toggleable__label {background-color: #d4ebff;}#sk-container-id-1 div.sk-serial::before {content: \"\";position: absolute;border-left: 1px solid gray;box-sizing: border-box;top: 0;bottom: 0;left: 50%;z-index: 0;}#sk-container-id-1 div.sk-serial {display: flex;flex-direction: column;align-items: center;background-color: white;padding-right: 0.2em;padding-left: 0.2em;position: relative;}#sk-container-id-1 div.sk-item {position: relative;z-index: 1;}#sk-container-id-1 div.sk-parallel {display: flex;align-items: stretch;justify-content: center;background-color: white;position: relative;}#sk-container-id-1 div.sk-item::before, #sk-container-id-1 div.sk-parallel-item::before {content: \"\";position: absolute;border-left: 1px solid gray;box-sizing: border-box;top: 0;bottom: 0;left: 50%;z-index: -1;}#sk-container-id-1 div.sk-parallel-item {display: flex;flex-direction: column;z-index: 1;position: relative;background-color: white;}#sk-container-id-1 div.sk-parallel-item:first-child::after {align-self: flex-end;width: 50%;}#sk-container-id-1 div.sk-parallel-item:last-child::after {align-self: flex-start;width: 50%;}#sk-container-id-1 div.sk-parallel-item:only-child::after {width: 0;}#sk-container-id-1 div.sk-dashed-wrapped {border: 1px dashed gray;margin: 0 0.4em 0.5em 0.4em;box-sizing: border-box;padding-bottom: 0.4em;background-color: white;}#sk-container-id-1 div.sk-label label {font-family: monospace;font-weight: bold;display: inline-block;line-height: 1.2em;}#sk-container-id-1 div.sk-label-container {text-align: center;}#sk-container-id-1 div.sk-container {/* jupyter's `normalize.less` sets `[hidden] { display: none; }` but bootstrap.min.css set `[hidden] { display: none !important; }` so we also need the `!important` here to be able to override the default hidden behavior on the sphinx rendered scikit-learn.org. See: https://github.com/scikit-learn/scikit-learn/issues/21755 */display: inline-block !important;position: relative;}#sk-container-id-1 div.sk-text-repr-fallback {display: none;}</style><div id=\"sk-container-id-1\" class=\"sk-top-container\"><div class=\"sk-text-repr-fallback\"><pre>Pipeline(steps=[(&#x27;prepocessor&#x27;,\n",
       "                 ColumnTransformer(transformers=[(&#x27;num&#x27;, SimpleImputer(),\n",
       "                                                  [&#x27;id&#x27;, &#x27;Time_spent_Alone&#x27;,\n",
       "                                                   &#x27;Social_event_attendance&#x27;,\n",
       "                                                   &#x27;Going_outside&#x27;,\n",
       "                                                   &#x27;Friends_circle_size&#x27;,\n",
       "                                                   &#x27;Post_frequency&#x27;]),\n",
       "                                                 (&#x27;cat&#x27;,\n",
       "                                                  Pipeline(steps=[(&#x27;imputer&#x27;,\n",
       "                                                                   SimpleImputer(strategy=&#x27;most_frequent&#x27;)),\n",
       "                                                                  (&#x27;onehot&#x27;,\n",
       "                                                                   OneHotEncoder(handle_unknown=&#x27;ignore&#x27;))]),\n",
       "                                                  [&#x27;Stage_fear&#x27;,\n",
       "                                                   &#x27;Drained_after_...\n",
       "                               feature_types=None, gamma=None, grow_policy=None,\n",
       "                               importance_type=None,\n",
       "                               interaction_constraints=None, learning_rate=0.01,\n",
       "                               max_bin=None, max_cat_threshold=None,\n",
       "                               max_cat_to_onehot=None, max_delta_step=None,\n",
       "                               max_depth=None, max_leaves=None,\n",
       "                               min_child_weight=None, missing=nan,\n",
       "                               monotone_constraints=None, multi_strategy=None,\n",
       "                               n_estimators=350, n_jobs=None,\n",
       "                               num_parallel_tree=None, random_state=0, ...))])</pre><b>In a Jupyter environment, please rerun this cell to show the HTML representation or trust the notebook. <br />On GitHub, the HTML representation is unable to render, please try loading this page with nbviewer.org.</b></div><div class=\"sk-container\" hidden><div class=\"sk-item sk-dashed-wrapped\"><div class=\"sk-label-container\"><div class=\"sk-label sk-toggleable\"><input class=\"sk-toggleable__control sk-hidden--visually\" id=\"sk-estimator-id-1\" type=\"checkbox\" ><label for=\"sk-estimator-id-1\" class=\"sk-toggleable__label sk-toggleable__label-arrow\">Pipeline</label><div class=\"sk-toggleable__content\"><pre>Pipeline(steps=[(&#x27;prepocessor&#x27;,\n",
       "                 ColumnTransformer(transformers=[(&#x27;num&#x27;, SimpleImputer(),\n",
       "                                                  [&#x27;id&#x27;, &#x27;Time_spent_Alone&#x27;,\n",
       "                                                   &#x27;Social_event_attendance&#x27;,\n",
       "                                                   &#x27;Going_outside&#x27;,\n",
       "                                                   &#x27;Friends_circle_size&#x27;,\n",
       "                                                   &#x27;Post_frequency&#x27;]),\n",
       "                                                 (&#x27;cat&#x27;,\n",
       "                                                  Pipeline(steps=[(&#x27;imputer&#x27;,\n",
       "                                                                   SimpleImputer(strategy=&#x27;most_frequent&#x27;)),\n",
       "                                                                  (&#x27;onehot&#x27;,\n",
       "                                                                   OneHotEncoder(handle_unknown=&#x27;ignore&#x27;))]),\n",
       "                                                  [&#x27;Stage_fear&#x27;,\n",
       "                                                   &#x27;Drained_after_...\n",
       "                               feature_types=None, gamma=None, grow_policy=None,\n",
       "                               importance_type=None,\n",
       "                               interaction_constraints=None, learning_rate=0.01,\n",
       "                               max_bin=None, max_cat_threshold=None,\n",
       "                               max_cat_to_onehot=None, max_delta_step=None,\n",
       "                               max_depth=None, max_leaves=None,\n",
       "                               min_child_weight=None, missing=nan,\n",
       "                               monotone_constraints=None, multi_strategy=None,\n",
       "                               n_estimators=350, n_jobs=None,\n",
       "                               num_parallel_tree=None, random_state=0, ...))])</pre></div></div></div><div class=\"sk-serial\"><div class=\"sk-item sk-dashed-wrapped\"><div class=\"sk-label-container\"><div class=\"sk-label sk-toggleable\"><input class=\"sk-toggleable__control sk-hidden--visually\" id=\"sk-estimator-id-2\" type=\"checkbox\" ><label for=\"sk-estimator-id-2\" class=\"sk-toggleable__label sk-toggleable__label-arrow\">prepocessor: ColumnTransformer</label><div class=\"sk-toggleable__content\"><pre>ColumnTransformer(transformers=[(&#x27;num&#x27;, SimpleImputer(),\n",
       "                                 [&#x27;id&#x27;, &#x27;Time_spent_Alone&#x27;,\n",
       "                                  &#x27;Social_event_attendance&#x27;, &#x27;Going_outside&#x27;,\n",
       "                                  &#x27;Friends_circle_size&#x27;, &#x27;Post_frequency&#x27;]),\n",
       "                                (&#x27;cat&#x27;,\n",
       "                                 Pipeline(steps=[(&#x27;imputer&#x27;,\n",
       "                                                  SimpleImputer(strategy=&#x27;most_frequent&#x27;)),\n",
       "                                                 (&#x27;onehot&#x27;,\n",
       "                                                  OneHotEncoder(handle_unknown=&#x27;ignore&#x27;))]),\n",
       "                                 [&#x27;Stage_fear&#x27;, &#x27;Drained_after_socializing&#x27;])])</pre></div></div></div><div class=\"sk-parallel\"><div class=\"sk-parallel-item\"><div class=\"sk-item\"><div class=\"sk-label-container\"><div class=\"sk-label sk-toggleable\"><input class=\"sk-toggleable__control sk-hidden--visually\" id=\"sk-estimator-id-3\" type=\"checkbox\" ><label for=\"sk-estimator-id-3\" class=\"sk-toggleable__label sk-toggleable__label-arrow\">num</label><div class=\"sk-toggleable__content\"><pre>[&#x27;id&#x27;, &#x27;Time_spent_Alone&#x27;, &#x27;Social_event_attendance&#x27;, &#x27;Going_outside&#x27;, &#x27;Friends_circle_size&#x27;, &#x27;Post_frequency&#x27;]</pre></div></div></div><div class=\"sk-serial\"><div class=\"sk-item\"><div class=\"sk-estimator sk-toggleable\"><input class=\"sk-toggleable__control sk-hidden--visually\" id=\"sk-estimator-id-4\" type=\"checkbox\" ><label for=\"sk-estimator-id-4\" class=\"sk-toggleable__label sk-toggleable__label-arrow\">SimpleImputer</label><div class=\"sk-toggleable__content\"><pre>SimpleImputer()</pre></div></div></div></div></div></div><div class=\"sk-parallel-item\"><div class=\"sk-item\"><div class=\"sk-label-container\"><div class=\"sk-label sk-toggleable\"><input class=\"sk-toggleable__control sk-hidden--visually\" id=\"sk-estimator-id-5\" type=\"checkbox\" ><label for=\"sk-estimator-id-5\" class=\"sk-toggleable__label sk-toggleable__label-arrow\">cat</label><div class=\"sk-toggleable__content\"><pre>[&#x27;Stage_fear&#x27;, &#x27;Drained_after_socializing&#x27;]</pre></div></div></div><div class=\"sk-serial\"><div class=\"sk-item\"><div class=\"sk-serial\"><div class=\"sk-item\"><div class=\"sk-estimator sk-toggleable\"><input class=\"sk-toggleable__control sk-hidden--visually\" id=\"sk-estimator-id-6\" type=\"checkbox\" ><label for=\"sk-estimator-id-6\" class=\"sk-toggleable__label sk-toggleable__label-arrow\">SimpleImputer</label><div class=\"sk-toggleable__content\"><pre>SimpleImputer(strategy=&#x27;most_frequent&#x27;)</pre></div></div></div><div class=\"sk-item\"><div class=\"sk-estimator sk-toggleable\"><input class=\"sk-toggleable__control sk-hidden--visually\" id=\"sk-estimator-id-7\" type=\"checkbox\" ><label for=\"sk-estimator-id-7\" class=\"sk-toggleable__label sk-toggleable__label-arrow\">OneHotEncoder</label><div class=\"sk-toggleable__content\"><pre>OneHotEncoder(handle_unknown=&#x27;ignore&#x27;)</pre></div></div></div></div></div></div></div></div></div></div><div class=\"sk-item\"><div class=\"sk-estimator sk-toggleable\"><input class=\"sk-toggleable__control sk-hidden--visually\" id=\"sk-estimator-id-8\" type=\"checkbox\" ><label for=\"sk-estimator-id-8\" class=\"sk-toggleable__label sk-toggleable__label-arrow\">XGBClassifier</label><div class=\"sk-toggleable__content\"><pre>XGBClassifier(base_score=None, booster=None, callbacks=None,\n",
       "              colsample_bylevel=None, colsample_bynode=None,\n",
       "              colsample_bytree=None, device=None, early_stopping_rounds=None,\n",
       "              enable_categorical=False, eval_metric=None, feature_types=None,\n",
       "              gamma=None, grow_policy=None, importance_type=None,\n",
       "              interaction_constraints=None, learning_rate=0.01, max_bin=None,\n",
       "              max_cat_threshold=None, max_cat_to_onehot=None,\n",
       "              max_delta_step=None, max_depth=None, max_leaves=None,\n",
       "              min_child_weight=None, missing=nan, monotone_constraints=None,\n",
       "              multi_strategy=None, n_estimators=350, n_jobs=None,\n",
       "              num_parallel_tree=None, random_state=0, ...)</pre></div></div></div></div></div></div></div>"
      ],
      "text/plain": [
       "Pipeline(steps=[('prepocessor',\n",
       "                 ColumnTransformer(transformers=[('num', SimpleImputer(),\n",
       "                                                  ['id', 'Time_spent_Alone',\n",
       "                                                   'Social_event_attendance',\n",
       "                                                   'Going_outside',\n",
       "                                                   'Friends_circle_size',\n",
       "                                                   'Post_frequency']),\n",
       "                                                 ('cat',\n",
       "                                                  Pipeline(steps=[('imputer',\n",
       "                                                                   SimpleImputer(strategy='most_frequent')),\n",
       "                                                                  ('onehot',\n",
       "                                                                   OneHotEncoder(handle_unknown='ignore'))]),\n",
       "                                                  ['Stage_fear',\n",
       "                                                   'Drained_after_...\n",
       "                               feature_types=None, gamma=None, grow_policy=None,\n",
       "                               importance_type=None,\n",
       "                               interaction_constraints=None, learning_rate=0.01,\n",
       "                               max_bin=None, max_cat_threshold=None,\n",
       "                               max_cat_to_onehot=None, max_delta_step=None,\n",
       "                               max_depth=None, max_leaves=None,\n",
       "                               min_child_weight=None, missing=nan,\n",
       "                               monotone_constraints=None, multi_strategy=None,\n",
       "                               n_estimators=350, n_jobs=None,\n",
       "                               num_parallel_tree=None, random_state=0, ...))])"
      ]
     },
     "execution_count": 11,
     "metadata": {},
     "output_type": "execute_result"
    }
   ],
   "source": [
    "pipeline_XGBClassifier = Pipeline(steps=[\n",
    "    ('prepocessor', preprocessor),\n",
    "    ('model', XGBClassifier(n_estimators=350, learning_rate=0.01, random_state=0))\n",
    "])\n",
    "\n",
    "pipeline_XGBClassifier.fit(X_train, y_train)"
   ]
  },
  {
   "cell_type": "markdown",
   "id": "5447833e",
   "metadata": {
    "papermill": {
     "duration": 0.006216,
     "end_time": "2025-09-03T10:38:06.759322",
     "exception": false,
     "start_time": "2025-09-03T10:38:06.753106",
     "status": "completed"
    },
    "tags": []
   },
   "source": [
    "# Test Model"
   ]
  },
  {
   "cell_type": "code",
   "execution_count": 12,
   "id": "c701cc8f",
   "metadata": {
    "execution": {
     "iopub.execute_input": "2025-09-03T10:38:06.773912Z",
     "iopub.status.busy": "2025-09-03T10:38:06.773143Z",
     "iopub.status.idle": "2025-09-03T10:38:06.801768Z",
     "shell.execute_reply": "2025-09-03T10:38:06.800156Z"
    },
    "papermill": {
     "duration": 0.03778,
     "end_time": "2025-09-03T10:38:06.803433",
     "exception": false,
     "start_time": "2025-09-03T10:38:06.765653",
     "status": "completed"
    },
    "tags": []
   },
   "outputs": [
    {
     "name": "stdout",
     "output_type": "stream",
     "text": [
      "Accuracy:  0.9686909581646423\n"
     ]
    }
   ],
   "source": [
    "from sklearn.metrics import accuracy_score\n",
    "\n",
    "predictions = pipeline_XGBClassifier.predict(X_valid)\n",
    "\n",
    "accuracy = accuracy_score(y_valid, predictions)\n",
    "\n",
    "print(\"Accuracy: \", accuracy)"
   ]
  },
  {
   "cell_type": "markdown",
   "id": "80f4b295",
   "metadata": {
    "papermill": {
     "duration": 0.006183,
     "end_time": "2025-09-03T10:38:06.816241",
     "exception": false,
     "start_time": "2025-09-03T10:38:06.810058",
     "status": "completed"
    },
    "tags": []
   },
   "source": [
    "# Final Prediction"
   ]
  },
  {
   "cell_type": "code",
   "execution_count": 13,
   "id": "f184b7be",
   "metadata": {
    "execution": {
     "iopub.execute_input": "2025-09-03T10:38:06.830683Z",
     "iopub.status.busy": "2025-09-03T10:38:06.830329Z",
     "iopub.status.idle": "2025-09-03T10:38:06.869122Z",
     "shell.execute_reply": "2025-09-03T10:38:06.866481Z"
    },
    "papermill": {
     "duration": 0.048087,
     "end_time": "2025-09-03T10:38:06.870911",
     "exception": false,
     "start_time": "2025-09-03T10:38:06.822824",
     "status": "completed"
    },
    "tags": []
   },
   "outputs": [],
   "source": [
    "final_prediction = pipeline_XGBClassifier.predict(X_test)"
   ]
  },
  {
   "cell_type": "code",
   "execution_count": 14,
   "id": "4a3307ad",
   "metadata": {
    "execution": {
     "iopub.execute_input": "2025-09-03T10:38:06.885776Z",
     "iopub.status.busy": "2025-09-03T10:38:06.885290Z",
     "iopub.status.idle": "2025-09-03T10:38:06.890702Z",
     "shell.execute_reply": "2025-09-03T10:38:06.889735Z"
    },
    "papermill": {
     "duration": 0.014722,
     "end_time": "2025-09-03T10:38:06.892480",
     "exception": false,
     "start_time": "2025-09-03T10:38:06.877758",
     "status": "completed"
    },
    "tags": []
   },
   "outputs": [],
   "source": [
    "final_prediction = label_encoder.inverse_transform(final_prediction)"
   ]
  },
  {
   "cell_type": "code",
   "execution_count": 15,
   "id": "e9439eaf",
   "metadata": {
    "execution": {
     "iopub.execute_input": "2025-09-03T10:38:06.907403Z",
     "iopub.status.busy": "2025-09-03T10:38:06.907090Z",
     "iopub.status.idle": "2025-09-03T10:38:06.912217Z",
     "shell.execute_reply": "2025-09-03T10:38:06.911413Z"
    },
    "papermill": {
     "duration": 0.014307,
     "end_time": "2025-09-03T10:38:06.913712",
     "exception": false,
     "start_time": "2025-09-03T10:38:06.899405",
     "status": "completed"
    },
    "tags": []
   },
   "outputs": [],
   "source": [
    "submission = pd.DataFrame({\n",
    "    \"id\": X_test[\"id\"],\n",
    "    \"pred_class\": final_prediction\n",
    "})"
   ]
  },
  {
   "cell_type": "code",
   "execution_count": 16,
   "id": "633ebf32",
   "metadata": {
    "execution": {
     "iopub.execute_input": "2025-09-03T10:38:06.928432Z",
     "iopub.status.busy": "2025-09-03T10:38:06.928122Z",
     "iopub.status.idle": "2025-09-03T10:38:06.944862Z",
     "shell.execute_reply": "2025-09-03T10:38:06.943909Z"
    },
    "papermill": {
     "duration": 0.026236,
     "end_time": "2025-09-03T10:38:06.946760",
     "exception": false,
     "start_time": "2025-09-03T10:38:06.920524",
     "status": "completed"
    },
    "tags": []
   },
   "outputs": [],
   "source": [
    "submission.to_csv(\"submission.csv\", index=False)"
   ]
  }
 ],
 "metadata": {
  "kaggle": {
   "accelerator": "none",
   "dataSources": [
    {
     "databundleVersionId": 12738969,
     "sourceId": 91718,
     "sourceType": "competition"
    }
   ],
   "dockerImageVersionId": 31089,
   "isGpuEnabled": false,
   "isInternetEnabled": true,
   "language": "python",
   "sourceType": "notebook"
  },
  "kernelspec": {
   "display_name": "Python 3",
   "language": "python",
   "name": "python3"
  },
  "language_info": {
   "codemirror_mode": {
    "name": "ipython",
    "version": 3
   },
   "file_extension": ".py",
   "mimetype": "text/x-python",
   "name": "python",
   "nbconvert_exporter": "python",
   "pygments_lexer": "ipython3",
   "version": "3.11.13"
  },
  "papermill": {
   "default_parameters": {},
   "duration": 33.678732,
   "end_time": "2025-09-03T10:38:07.674645",
   "environment_variables": {},
   "exception": null,
   "input_path": "__notebook__.ipynb",
   "output_path": "__notebook__.ipynb",
   "parameters": {},
   "start_time": "2025-09-03T10:37:33.995913",
   "version": "2.6.0"
  }
 },
 "nbformat": 4,
 "nbformat_minor": 5
}
